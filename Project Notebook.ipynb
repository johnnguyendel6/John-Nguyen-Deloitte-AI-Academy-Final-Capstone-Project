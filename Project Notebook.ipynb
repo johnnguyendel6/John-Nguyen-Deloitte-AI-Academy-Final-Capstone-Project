{
 "cells": [
  {
   "cell_type": "code",
   "execution_count": 1,
   "metadata": {},
   "outputs": [],
   "source": [
    "#Import Necessary Libraries and Packages\n",
    "from statistics import LinearRegression\n",
    "import numpy as np \n",
    "import pandas as pd\n",
    "from sklearn.linear_model import Linear Regression  \n",
    "\n",
    "#Read the Fortune 100 2021 CSV Files\n",
    "## pd.open ?\n",
    "df = pd.read_csv(r'C:\\Users\\johnnguyen6\\Documents\\John-Nguyen-Deloitte-AI-Academy-Final-Capstone-Project\\Fortune 100 Company Data (2021).csv')\n",
    "print(df)\n",
    "\n",
    "input= \n",
    "profitMargin = \n",
    "\n",
    "#Implements the Linear Regression Function\n",
    "model = LinearRegression()"
   ]
  },
  {
   "cell_type": "code",
   "execution_count": null,
   "metadata": {},
   "outputs": [],
   "source": []
  }
 ],
 "metadata": {
  "kernelspec": {
   "display_name": "Python (learn-env)~",
   "language": "python",
   "name": "learn-env"
  },
  "language_info": {
   "codemirror_mode": {
    "name": "ipython",
    "version": 3
   },
   "file_extension": ".py",
   "mimetype": "text/x-python",
   "name": "python",
   "nbconvert_exporter": "python",
   "pygments_lexer": "ipython3",
   "version": "3.8.5"
  }
 },
 "nbformat": 4,
 "nbformat_minor": 4
}
